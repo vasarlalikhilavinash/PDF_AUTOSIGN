{
 "cells": [
  {
   "cell_type": "code",
   "execution_count": 25,
   "id": "48ac0e65",
   "metadata": {},
   "outputs": [],
   "source": [
    "#pip install Cmake"
   ]
  },
  {
   "cell_type": "code",
   "execution_count": 26,
   "id": "ea8f670a",
   "metadata": {},
   "outputs": [],
   "source": [
    "#pip install reportlab"
   ]
  },
  {
   "cell_type": "code",
   "execution_count": 63,
   "id": "54fe5b70",
   "metadata": {},
   "outputs": [],
   "source": [
    "from reportlab.pdfgen import canvas\n",
    "from PyPDF2 import PdfFileWriter, PdfFileReader\n",
    "import io"
   ]
  },
  {
   "cell_type": "code",
   "execution_count": 27,
   "id": "f1aa554d",
   "metadata": {},
   "outputs": [],
   "source": [
    "def create_pdf():\n",
    "    pdf_file = 'new.pdf'\n",
    " \n",
    "    can = canvas.Canvas(pdf_file)\n",
    " \n",
    "    can.drawString(20, 800, \"First Page\")\n",
    "    can.showPage()\n",
    " \n",
    "    can.drawString(20, 800, \"Second Page\")\n",
    "    can.showPage()\n",
    " \n",
    "    can.drawString(20, 700, \"Third Page\")\n",
    "    can.showPage()\n",
    " \n",
    "    can.save()"
   ]
  },
  {
   "cell_type": "code",
   "execution_count": 92,
   "id": "5407ecc7",
   "metadata": {},
   "outputs": [],
   "source": [
    "def add_sign():\n",
    "    in_pdf_file = 'new.pdf'\n",
    "    out_pdf_file = 'with_image.pdf'\n",
    "    img_file = 'my_sign.png'\n",
    "    \n",
    "    existing_pdf = PdfFileReader(open(in_pdf_file, \"rb\")) \n",
    "    \n",
    "    packet = io.BytesIO()\n",
    "    can = canvas.Canvas(packet)\n",
    "    #can.drawString(10, 100, \"Hello world\")\n",
    "    print(\"Total Number of Pages :\",len(existing_pdf.pages))\n",
    "    print(\"choose an sign option : all_pages/single_page  \")\n",
    "    value=str(input())\n",
    "    if value=='all_pages':\n",
    "        for i in range(len(existing_pdf.pages)):\n",
    "            x_start = 450\n",
    "            y_start = 0\n",
    "            can.drawImage(img_file, x_start, y_start, width=120, preserveAspectRatio=True, mask='auto')\n",
    "            can.showPage()\n",
    "        can.save()\n",
    "    elif value=='single_page':\n",
    "            x_start = 450\n",
    "            y_start = 0\n",
    "            can.drawImage(img_file, x_start, y_start, width=120, preserveAspectRatio=True, mask='auto')\n",
    "            can.showPage()\n",
    "            for i in range(len(existing_pdf.pages)):\n",
    "                can.showPage()\n",
    "            can.save()\n",
    "        \n",
    "    #move to the beginning of the StringIO buffer\n",
    "    packet.seek(0)\n",
    " \n",
    "    new_pdf = PdfFileReader(packet)\n",
    " \n",
    "    # read the existing PDF\n",
    "    output = PdfFileWriter()\n",
    " \n",
    "    for i in range(len(existing_pdf.pages)):\n",
    "        page = existing_pdf.getPage(i)\n",
    "        page.mergePage(new_pdf.getPage(i))\n",
    "        output.addPage(page)\n",
    " \n",
    "    outputStream = open(out_pdf_file, \"wb\")\n",
    "    output.write(outputStream)\n",
    "    outputStream.close()\n"
   ]
  },
  {
   "cell_type": "code",
   "execution_count": 93,
   "id": "9537459e",
   "metadata": {},
   "outputs": [],
   "source": [
    "create_pdf()"
   ]
  },
  {
   "cell_type": "code",
   "execution_count": 94,
   "id": "adf304c2",
   "metadata": {},
   "outputs": [
    {
     "name": "stdout",
     "output_type": "stream",
     "text": [
      "Total Number of Pages : 3\n",
      "choose an sign option : all_pages/single_page  \n",
      "single_page\n"
     ]
    }
   ],
   "source": [
    "add_image()"
   ]
  },
  {
   "cell_type": "code",
   "execution_count": null,
   "id": "0491cbe1",
   "metadata": {},
   "outputs": [],
   "source": []
  }
 ],
 "metadata": {
  "kernelspec": {
   "display_name": "Python 3",
   "language": "python",
   "name": "python3"
  },
  "language_info": {
   "codemirror_mode": {
    "name": "ipython",
    "version": 3
   },
   "file_extension": ".py",
   "mimetype": "text/x-python",
   "name": "python",
   "nbconvert_exporter": "python",
   "pygments_lexer": "ipython3",
   "version": "3.8.8"
  }
 },
 "nbformat": 4,
 "nbformat_minor": 5
}
